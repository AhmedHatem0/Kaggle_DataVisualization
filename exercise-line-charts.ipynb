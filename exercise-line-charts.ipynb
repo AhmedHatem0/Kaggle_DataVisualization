{
 "cells": [
  {
   "cell_type": "markdown",
   "id": "34296793",
   "metadata": {
    "papermill": {
     "duration": 0.006662,
     "end_time": "2022-09-01T01:58:38.458497",
     "exception": false,
     "start_time": "2022-09-01T01:58:38.451835",
     "status": "completed"
    },
    "tags": []
   },
   "source": [
    "**This notebook is an exercise in the [Data Visualization](https://www.kaggle.com/learn/data-visualization) course.  You can reference the tutorial at [this link](https://www.kaggle.com/alexisbcook/line-charts).**\n",
    "\n",
    "---\n"
   ]
  },
  {
   "cell_type": "markdown",
   "id": "6a5f5bda",
   "metadata": {
    "papermill": {
     "duration": 0.004998,
     "end_time": "2022-09-01T01:58:38.469015",
     "exception": false,
     "start_time": "2022-09-01T01:58:38.464017",
     "status": "completed"
    },
    "tags": []
   },
   "source": [
    "In this exercise, you will use your new knowledge to propose a solution to a real-world scenario. To succeed, you will need to import data into Python, answer questions using the data, and generate **line charts** to understand patterns in the data.\n",
    "\n",
    "## Scenario\n",
    "\n",
    "You have recently been hired to manage the museums in the City of Los Angeles. Your first project focuses on the four museums pictured in the images below.\n",
    "\n",
    "![ex1_museums](https://i.imgur.com/pFYL8J1.png)\n",
    "\n",
    "You will leverage data from the Los Angeles [Data Portal](https://data.lacity.org/) that tracks monthly visitors to each museum.  \n",
    "\n",
    "![ex1_xlsx](https://i.imgur.com/mGWYlym.png)\n",
    "\n",
    "## Setup\n",
    "\n",
    "Run the next cell to import and configure the Python libraries that you need to complete the exercise."
   ]
  },
  {
   "cell_type": "code",
   "execution_count": 1,
   "id": "da075e99",
   "metadata": {
    "execution": {
     "iopub.execute_input": "2022-09-01T01:58:38.481780Z",
     "iopub.status.busy": "2022-09-01T01:58:38.481306Z",
     "iopub.status.idle": "2022-09-01T01:58:39.675064Z",
     "shell.execute_reply": "2022-09-01T01:58:39.673385Z"
    },
    "papermill": {
     "duration": 1.203666,
     "end_time": "2022-09-01T01:58:39.678123",
     "exception": false,
     "start_time": "2022-09-01T01:58:38.474457",
     "status": "completed"
    },
    "tags": []
   },
   "outputs": [
    {
     "name": "stdout",
     "output_type": "stream",
     "text": [
      "Setup Complete\n"
     ]
    }
   ],
   "source": [
    "import pandas as pd\n",
    "pd.plotting.register_matplotlib_converters()\n",
    "import matplotlib.pyplot as plt\n",
    "%matplotlib inline\n",
    "import seaborn as sns\n",
    "print(\"Setup Complete\")"
   ]
  },
  {
   "cell_type": "markdown",
   "id": "d0be16b6",
   "metadata": {
    "papermill": {
     "duration": 0.005274,
     "end_time": "2022-09-01T01:58:39.689012",
     "exception": false,
     "start_time": "2022-09-01T01:58:39.683738",
     "status": "completed"
    },
    "tags": []
   },
   "source": [
    "The questions below will give you feedback on your work. Run the following cell to set up the feedback system."
   ]
  },
  {
   "cell_type": "code",
   "execution_count": 2,
   "id": "fa6ae27e",
   "metadata": {
    "execution": {
     "iopub.execute_input": "2022-09-01T01:58:39.701977Z",
     "iopub.status.busy": "2022-09-01T01:58:39.701583Z",
     "iopub.status.idle": "2022-09-01T01:58:39.767695Z",
     "shell.execute_reply": "2022-09-01T01:58:39.765982Z"
    },
    "papermill": {
     "duration": 0.075956,
     "end_time": "2022-09-01T01:58:39.770480",
     "exception": false,
     "start_time": "2022-09-01T01:58:39.694524",
     "status": "completed"
    },
    "tags": []
   },
   "outputs": [
    {
     "name": "stdout",
     "output_type": "stream",
     "text": [
      "Setup Complete\n"
     ]
    }
   ],
   "source": [
    "# Set up code checking\n",
    "import os\n",
    "if not os.path.exists(\"../input/museum_visitors.csv\"):\n",
    "    os.symlink(\"../input/data-for-datavis/museum_visitors.csv\", \"../input/museum_visitors.csv\") \n",
    "from learntools.core import binder\n",
    "binder.bind(globals())\n",
    "from learntools.data_viz_to_coder.ex2 import *\n",
    "print(\"Setup Complete\")"
   ]
  },
  {
   "cell_type": "markdown",
   "id": "e1f8079f",
   "metadata": {
    "papermill": {
     "duration": 0.005644,
     "end_time": "2022-09-01T01:58:39.781960",
     "exception": false,
     "start_time": "2022-09-01T01:58:39.776316",
     "status": "completed"
    },
    "tags": []
   },
   "source": [
    "## Step 1: Load the data\n",
    "\n",
    "Your first assignment is to read the LA Museum Visitors data file into `museum_data`.  Note that:\n",
    "- The filepath to the dataset is stored as `museum_filepath`.  Please **do not** change the provided value of the filepath.\n",
    "- The name of the column to use as row labels is `\"Date\"`.  (This can be seen in cell A1 when the file is opened in Excel.)\n",
    "\n",
    "To help with this, you may find it useful to revisit some relevant code from the tutorial, which we have pasted below:\n",
    "\n",
    "```python\n",
    "# Path of the file to read\n",
    "spotify_filepath = \"../input/spotify.csv\"\n",
    "\n",
    "# Read the file into a variable spotify_data\n",
    "spotify_data = pd.read_csv(spotify_filepath, index_col=\"Date\", parse_dates=True)\n",
    "```\n",
    "\n",
    "The code you need to write now looks very similar!"
   ]
  },
  {
   "cell_type": "code",
   "execution_count": 3,
   "id": "4bd080e2",
   "metadata": {
    "execution": {
     "iopub.execute_input": "2022-09-01T01:58:39.795236Z",
     "iopub.status.busy": "2022-09-01T01:58:39.794854Z",
     "iopub.status.idle": "2022-09-01T01:58:39.811888Z",
     "shell.execute_reply": "2022-09-01T01:58:39.810602Z"
    },
    "papermill": {
     "duration": 0.026963,
     "end_time": "2022-09-01T01:58:39.814597",
     "exception": false,
     "start_time": "2022-09-01T01:58:39.787634",
     "status": "completed"
    },
    "tags": []
   },
   "outputs": [
    {
     "data": {
      "application/javascript": [
       "parent.postMessage({\"jupyterEvent\": \"custom.exercise_interaction\", \"data\": {\"outcomeType\": 1, \"valueTowardsCompletion\": 0.3333333333333333, \"interactionType\": 1, \"questionType\": 1, \"questionId\": \"1_LoadMuseumData\", \"learnToolsVersion\": \"0.3.4\", \"failureMessage\": \"\", \"exceptionClass\": \"\", \"trace\": \"\"}}, \"*\")"
      ],
      "text/plain": [
       "<IPython.core.display.Javascript object>"
      ]
     },
     "metadata": {},
     "output_type": "display_data"
    },
    {
     "data": {
      "text/markdown": [
       "<span style=\"color:#33cc33\">Correct</span>"
      ],
      "text/plain": [
       "Correct"
      ]
     },
     "metadata": {},
     "output_type": "display_data"
    }
   ],
   "source": [
    "# Path of the file to read\n",
    "museum_filepath = \"../input/museum_visitors.csv\"\n",
    "\n",
    "# Fill in the line below to read the file into a variable museum_data\n",
    "museum_data = pd.read_csv(museum_filepath,index_col = 'Date',parse_dates=True)\n",
    "\n",
    "# Run the line below with no changes to check that you've loaded the data correctly\n",
    "step_1.check()"
   ]
  },
  {
   "cell_type": "code",
   "execution_count": 4,
   "id": "40b230bb",
   "metadata": {
    "execution": {
     "iopub.execute_input": "2022-09-01T01:58:39.828026Z",
     "iopub.status.busy": "2022-09-01T01:58:39.827629Z",
     "iopub.status.idle": "2022-09-01T01:58:39.832857Z",
     "shell.execute_reply": "2022-09-01T01:58:39.831458Z"
    },
    "papermill": {
     "duration": 0.014636,
     "end_time": "2022-09-01T01:58:39.835291",
     "exception": false,
     "start_time": "2022-09-01T01:58:39.820655",
     "status": "completed"
    },
    "tags": []
   },
   "outputs": [],
   "source": [
    "# Uncomment the line below to receive a hint\n",
    "#step_1.hint()\n",
    "# Uncomment the line below to see the solution\n",
    "#step_1.solution()"
   ]
  },
  {
   "cell_type": "markdown",
   "id": "da4c4996",
   "metadata": {
    "papermill": {
     "duration": 0.005488,
     "end_time": "2022-09-01T01:58:39.846969",
     "exception": false,
     "start_time": "2022-09-01T01:58:39.841481",
     "status": "completed"
    },
    "tags": []
   },
   "source": [
    "## Step 2: Review the data\n",
    "\n",
    "Use a Python command to print the last 5 rows of the data."
   ]
  },
  {
   "cell_type": "code",
   "execution_count": 5,
   "id": "ace1bffd",
   "metadata": {
    "execution": {
     "iopub.execute_input": "2022-09-01T01:58:39.860425Z",
     "iopub.status.busy": "2022-09-01T01:58:39.860006Z",
     "iopub.status.idle": "2022-09-01T01:58:39.878410Z",
     "shell.execute_reply": "2022-09-01T01:58:39.877203Z"
    },
    "papermill": {
     "duration": 0.028223,
     "end_time": "2022-09-01T01:58:39.880946",
     "exception": false,
     "start_time": "2022-09-01T01:58:39.852723",
     "status": "completed"
    },
    "tags": []
   },
   "outputs": [
    {
     "data": {
      "text/html": [
       "<div>\n",
       "<style scoped>\n",
       "    .dataframe tbody tr th:only-of-type {\n",
       "        vertical-align: middle;\n",
       "    }\n",
       "\n",
       "    .dataframe tbody tr th {\n",
       "        vertical-align: top;\n",
       "    }\n",
       "\n",
       "    .dataframe thead th {\n",
       "        text-align: right;\n",
       "    }\n",
       "</style>\n",
       "<table border=\"1\" class=\"dataframe\">\n",
       "  <thead>\n",
       "    <tr style=\"text-align: right;\">\n",
       "      <th></th>\n",
       "      <th>Avila Adobe</th>\n",
       "      <th>Firehouse Museum</th>\n",
       "      <th>Chinese American Museum</th>\n",
       "      <th>America Tropical Interpretive Center</th>\n",
       "    </tr>\n",
       "    <tr>\n",
       "      <th>Date</th>\n",
       "      <th></th>\n",
       "      <th></th>\n",
       "      <th></th>\n",
       "      <th></th>\n",
       "    </tr>\n",
       "  </thead>\n",
       "  <tbody>\n",
       "    <tr>\n",
       "      <th>2018-07-01</th>\n",
       "      <td>23136</td>\n",
       "      <td>4191</td>\n",
       "      <td>2620</td>\n",
       "      <td>4718</td>\n",
       "    </tr>\n",
       "    <tr>\n",
       "      <th>2018-08-01</th>\n",
       "      <td>20815</td>\n",
       "      <td>4866</td>\n",
       "      <td>2409</td>\n",
       "      <td>3891</td>\n",
       "    </tr>\n",
       "    <tr>\n",
       "      <th>2018-09-01</th>\n",
       "      <td>21020</td>\n",
       "      <td>4956</td>\n",
       "      <td>2146</td>\n",
       "      <td>3180</td>\n",
       "    </tr>\n",
       "    <tr>\n",
       "      <th>2018-10-01</th>\n",
       "      <td>19280</td>\n",
       "      <td>4622</td>\n",
       "      <td>2364</td>\n",
       "      <td>3775</td>\n",
       "    </tr>\n",
       "    <tr>\n",
       "      <th>2018-11-01</th>\n",
       "      <td>17163</td>\n",
       "      <td>4082</td>\n",
       "      <td>2385</td>\n",
       "      <td>4562</td>\n",
       "    </tr>\n",
       "  </tbody>\n",
       "</table>\n",
       "</div>"
      ],
      "text/plain": [
       "            Avila Adobe  Firehouse Museum  Chinese American Museum  \\\n",
       "Date                                                                 \n",
       "2018-07-01        23136              4191                     2620   \n",
       "2018-08-01        20815              4866                     2409   \n",
       "2018-09-01        21020              4956                     2146   \n",
       "2018-10-01        19280              4622                     2364   \n",
       "2018-11-01        17163              4082                     2385   \n",
       "\n",
       "            America Tropical Interpretive Center  \n",
       "Date                                              \n",
       "2018-07-01                                  4718  \n",
       "2018-08-01                                  3891  \n",
       "2018-09-01                                  3180  \n",
       "2018-10-01                                  3775  \n",
       "2018-11-01                                  4562  "
      ]
     },
     "execution_count": 5,
     "metadata": {},
     "output_type": "execute_result"
    }
   ],
   "source": [
    "# Print the last five rows of the data \n",
    "____ # Your code here\n",
    "museum_data.tail()"
   ]
  },
  {
   "cell_type": "markdown",
   "id": "f197a602",
   "metadata": {
    "papermill": {
     "duration": 0.005754,
     "end_time": "2022-09-01T01:58:39.892681",
     "exception": false,
     "start_time": "2022-09-01T01:58:39.886927",
     "status": "completed"
    },
    "tags": []
   },
   "source": [
    "The last row (for `2018-11-01`) tracks the number of visitors to each museum in November 2018, the next-to-last row (for `2018-10-01`) tracks the number of visitors to each museum in October 2018, _and so on_.\n",
    "\n",
    "Use the last 5 rows of the data to answer the questions below."
   ]
  },
  {
   "cell_type": "code",
   "execution_count": 6,
   "id": "a04ad2af",
   "metadata": {
    "execution": {
     "iopub.execute_input": "2022-09-01T01:58:39.906475Z",
     "iopub.status.busy": "2022-09-01T01:58:39.906088Z",
     "iopub.status.idle": "2022-09-01T01:58:39.916153Z",
     "shell.execute_reply": "2022-09-01T01:58:39.915002Z"
    },
    "papermill": {
     "duration": 0.019556,
     "end_time": "2022-09-01T01:58:39.918245",
     "exception": false,
     "start_time": "2022-09-01T01:58:39.898689",
     "status": "completed"
    },
    "tags": []
   },
   "outputs": [
    {
     "data": {
      "application/javascript": [
       "parent.postMessage({\"jupyterEvent\": \"custom.exercise_interaction\", \"data\": {\"outcomeType\": 1, \"valueTowardsCompletion\": 0.3333333333333333, \"interactionType\": 1, \"questionType\": 1, \"questionId\": \"2_ReviewData\", \"learnToolsVersion\": \"0.3.4\", \"failureMessage\": \"\", \"exceptionClass\": \"\", \"trace\": \"\"}}, \"*\")"
      ],
      "text/plain": [
       "<IPython.core.display.Javascript object>"
      ]
     },
     "metadata": {},
     "output_type": "display_data"
    },
    {
     "data": {
      "text/markdown": [
       "<span style=\"color:#33cc33\">Correct</span>"
      ],
      "text/plain": [
       "Correct"
      ]
     },
     "metadata": {},
     "output_type": "display_data"
    }
   ],
   "source": [
    "# Fill in the line below: How many visitors did the Chinese American Museum \n",
    "# receive in July 2018?\n",
    "ca_museum_jul18 = 2620\n",
    "\n",
    "# Fill in the line below: In October 2018, how many more visitors did Avila \n",
    "# Adobe receive than the Firehouse Museum?\n",
    "avila_oct18 = 19280-4622\n",
    "\n",
    "# Check your answers\n",
    "step_2.check()"
   ]
  },
  {
   "cell_type": "code",
   "execution_count": 7,
   "id": "8af886b8",
   "metadata": {
    "execution": {
     "iopub.execute_input": "2022-09-01T01:58:39.932720Z",
     "iopub.status.busy": "2022-09-01T01:58:39.932322Z",
     "iopub.status.idle": "2022-09-01T01:58:39.936286Z",
     "shell.execute_reply": "2022-09-01T01:58:39.935452Z"
    },
    "papermill": {
     "duration": 0.013757,
     "end_time": "2022-09-01T01:58:39.938395",
     "exception": false,
     "start_time": "2022-09-01T01:58:39.924638",
     "status": "completed"
    },
    "tags": []
   },
   "outputs": [],
   "source": [
    "# Lines below will give you a hint or solution code\n",
    "#step_2.hint()\n",
    "#step_2.solution()"
   ]
  },
  {
   "cell_type": "markdown",
   "id": "1e0780aa",
   "metadata": {
    "papermill": {
     "duration": 0.006679,
     "end_time": "2022-09-01T01:58:39.951369",
     "exception": false,
     "start_time": "2022-09-01T01:58:39.944690",
     "status": "completed"
    },
    "tags": []
   },
   "source": [
    "## Step 3: Convince the museum board \n",
    "\n",
    "The Firehouse Museum claims they ran an event in 2014 that brought an incredible number of visitors, and that they should get extra budget to run a similar event again.  The other museums think these types of events aren't that important, and budgets should be split purely based on recent visitors on an average day.  \n",
    "\n",
    "To show the museum board how the event compared to regular traffic at each museum, create a line chart that shows how the number of visitors to each museum evolved over time.  Your figure should have four lines (one for each museum).\n",
    "\n",
    "> **(Optional) Note**: If you have some prior experience with plotting figures in Python, you might be familiar with the `plt.show()` command.  If you decide to use this command, please place it **after** the line of code that checks your answer (in this case, place it after `step_3.check()` below) -- otherwise, the checking code will return an error!"
   ]
  },
  {
   "cell_type": "code",
   "execution_count": 8,
   "id": "c0f3dee1",
   "metadata": {
    "execution": {
     "iopub.execute_input": "2022-09-01T01:58:39.965599Z",
     "iopub.status.busy": "2022-09-01T01:58:39.965181Z",
     "iopub.status.idle": "2022-09-01T01:58:40.436093Z",
     "shell.execute_reply": "2022-09-01T01:58:40.434796Z"
    },
    "papermill": {
     "duration": 0.481302,
     "end_time": "2022-09-01T01:58:40.438866",
     "exception": false,
     "start_time": "2022-09-01T01:58:39.957564",
     "status": "completed"
    },
    "tags": []
   },
   "outputs": [
    {
     "data": {
      "application/javascript": [
       "parent.postMessage({\"jupyterEvent\": \"custom.exercise_interaction\", \"data\": {\"outcomeType\": 1, \"valueTowardsCompletion\": 0.3333333333333333, \"interactionType\": 1, \"questionType\": 2, \"questionId\": \"3_PlotAll\", \"learnToolsVersion\": \"0.3.4\", \"failureMessage\": \"\", \"exceptionClass\": \"\", \"trace\": \"\"}}, \"*\")"
      ],
      "text/plain": [
       "<IPython.core.display.Javascript object>"
      ]
     },
     "metadata": {},
     "output_type": "display_data"
    },
    {
     "data": {
      "text/markdown": [
       "<span style=\"color:#33cc33\">Correct</span>"
      ],
      "text/plain": [
       "Correct"
      ]
     },
     "metadata": {},
     "output_type": "display_data"
    },
    {
     "data": {
      "image/png": "[encoded data removed]",
      "text/plain": [
       "<Figure size 1080x360 with 1 Axes>"
      ]
     },
     "metadata": {
      "needs_background": "light"
     },
     "output_type": "display_data"
    }
   ],
   "source": [
    "# Line chart showing the number of visitors to each museum over time\n",
    "____ # Your code here\n",
    "plt.figure(figsize=(15,5))\n",
    "sns.lineplot(data=museum_data)\n",
    "\n",
    "# Check your answer\n",
    "step_3.check()"
   ]
  },
  {
   "cell_type": "code",
   "execution_count": 9,
   "id": "577c1000",
   "metadata": {
    "execution": {
     "iopub.execute_input": "2022-09-01T01:58:40.457104Z",
     "iopub.status.busy": "2022-09-01T01:58:40.456006Z",
     "iopub.status.idle": "2022-09-01T01:58:40.462790Z",
     "shell.execute_reply": "2022-09-01T01:58:40.461830Z"
    },
    "papermill": {
     "duration": 0.018645,
     "end_time": "2022-09-01T01:58:40.465229",
     "exception": false,
     "start_time": "2022-09-01T01:58:40.446584",
     "status": "completed"
    },
    "tags": []
   },
   "outputs": [],
   "source": [
    "# Lines below will give you a hint or solution code\n",
    "#step_3.hint()\n",
    "#step_3.solution_plot()"
   ]
  },
  {
   "cell_type": "markdown",
   "id": "c913ac04",
   "metadata": {
    "papermill": {
     "duration": 0.007361,
     "end_time": "2022-09-01T01:58:40.480821",
     "exception": false,
     "start_time": "2022-09-01T01:58:40.473460",
     "status": "completed"
    },
    "tags": []
   },
   "source": [
    "## Step 4: Assess seasonality\n",
    "\n",
    "When meeting with the employees at Avila Adobe, you hear that one major pain point is that the number of museum visitors varies greatly with the seasons, with low seasons (when the employees are perfectly staffed and happy) and also high seasons (when the employees are understaffed and stressed).  You realize that if you can predict these high and low seasons, you can plan ahead to hire some additional seasonal employees to help out with the extra work.\n",
    "\n",
    "#### Part A\n",
    "Create a line chart that shows how the number of visitors to Avila Adobe has evolved over time.  (_If your code returns an error, the first thing that you should check is that you've spelled the name of the column correctly!  You must write the name of the column exactly as it appears in the dataset._)"
   ]
  },
  {
   "cell_type": "code",
   "execution_count": 10,
   "id": "88ff44fe",
   "metadata": {
    "execution": {
     "iopub.execute_input": "2022-09-01T01:58:40.499827Z",
     "iopub.status.busy": "2022-09-01T01:58:40.497495Z",
     "iopub.status.idle": "2022-09-01T01:58:40.779508Z",
     "shell.execute_reply": "2022-09-01T01:58:40.778249Z"
    },
    "papermill": {
     "duration": 0.293759,
     "end_time": "2022-09-01T01:58:40.782160",
     "exception": false,
     "start_time": "2022-09-01T01:58:40.488401",
     "status": "completed"
    },
    "tags": []
   },
   "outputs": [
    {
     "name": "stdout",
     "output_type": "stream",
     "text": [
      "Thank you for creating a line chart!  To see how your code compares to the official solution, please use the code cell below.\n"
     ]
    },
    {
     "data": {
      "application/javascript": [
       "parent.postMessage({\"jupyterEvent\": \"custom.exercise_interaction\", \"data\": {\"outcomeType\": 1, \"valueTowardsCompletion\": 0.3333333333333333, \"interactionType\": 1, \"questionType\": 2, \"questionId\": \"4.1_PlotAvila\", \"learnToolsVersion\": \"0.3.4\", \"failureMessage\": \"\", \"exceptionClass\": \"\", \"trace\": \"\"}}, \"*\")"
      ],
      "text/plain": [
       "<IPython.core.display.Javascript object>"
      ]
     },
     "metadata": {},
     "output_type": "display_data"
    },
    {
     "data": {
      "text/markdown": [
       "<span style=\"color:#33cc33\">Correct</span>"
      ],
      "text/plain": [
       "Correct"
      ]
     },
     "metadata": {},
     "output_type": "display_data"
    },
    {
     "data": {
      "image/png": "[encoded data removed]",
      "text/plain": [
       "<Figure size 432x288 with 1 Axes>"
      ]
     },
     "metadata": {
      "needs_background": "light"
     },
     "output_type": "display_data"
    }
   ],
   "source": [
    "# Line plot showing the number of visitors to Avila Adobe over time\n",
    "____ # Your code here\n",
    "sns.lineplot(data=museum_data[\"Avila Adobe\"])\n",
    "# Check your answer\n",
    "step_4.a.check()"
   ]
  },
  {
   "cell_type": "code",
   "execution_count": 11,
   "id": "1ab8ebe3",
   "metadata": {
    "execution": {
     "iopub.execute_input": "2022-09-01T01:58:40.801720Z",
     "iopub.status.busy": "2022-09-01T01:58:40.801263Z",
     "iopub.status.idle": "2022-09-01T01:58:41.113508Z",
     "shell.execute_reply": "2022-09-01T01:58:41.112611Z"
    },
    "papermill": {
     "duration": 0.32487,
     "end_time": "2022-09-01T01:58:41.115816",
     "exception": false,
     "start_time": "2022-09-01T01:58:40.790946",
     "status": "completed"
    },
    "tags": []
   },
   "outputs": [
    {
     "data": {
      "application/javascript": [
       "parent.postMessage({\"jupyterEvent\": \"custom.exercise_interaction\", \"data\": {\"interactionType\": 3, \"questionType\": 2, \"questionId\": \"4.1_PlotAvila\", \"learnToolsVersion\": \"0.3.4\", \"valueTowardsCompletion\": 0.0, \"failureMessage\": \"\", \"exceptionClass\": \"\", \"trace\": \"\", \"outcomeType\": 4}}, \"*\")"
      ],
      "text/plain": [
       "<IPython.core.display.Javascript object>"
      ]
     },
     "metadata": {},
     "output_type": "display_data"
    },
    {
     "data": {
      "text/markdown": [
       "<span style=\"color:#33cc99\">Solution:</span> \n",
       "```python\n",
       "# Set the width and height of the figure\n",
       "plt.figure(figsize=(12,6))\n",
       "# Add title\n",
       "plt.title(\"Monthly Visitors to Avila Adobe\")\n",
       "# Line chart showing the number of visitors to Avila Adobe over time\n",
       "sns.lineplot(data=museum_data['Avila Adobe'])\n",
       "# Add label for horizontal axis\n",
       "plt.xlabel(\"Date\")\n",
       "\n",
       "```"
      ],
      "text/plain": [
       "Solution: \n",
       "```python\n",
       "# Set the width and height of the figure\n",
       "plt.figure(figsize=(12,6))\n",
       "# Add title\n",
       "plt.title(\"Monthly Visitors to Avila Adobe\")\n",
       "# Line chart showing the number of visitors to Avila Adobe over time\n",
       "sns.lineplot(data=museum_data['Avila Adobe'])\n",
       "# Add label for horizontal axis\n",
       "plt.xlabel(\"Date\")\n",
       "\n",
       "```"
      ]
     },
     "metadata": {},
     "output_type": "display_data"
    },
    {
     "data": {
      "image/png": "[encoded data removed]",
      "text/plain": [
       "<Figure size 864x432 with 1 Axes>"
      ]
     },
     "metadata": {
      "needs_background": "light"
     },
     "output_type": "display_data"
    }
   ],
   "source": [
    "# Lines below will give you a hint or solution code\n",
    "#step_4.a.hint()\n",
    "step_4.a.solution_plot()"
   ]
  },
  {
   "cell_type": "markdown",
   "id": "0d852427",
   "metadata": {
    "papermill": {
     "duration": 0.009406,
     "end_time": "2022-09-01T01:58:41.135161",
     "exception": false,
     "start_time": "2022-09-01T01:58:41.125755",
     "status": "completed"
    },
    "tags": []
   },
   "source": [
    "#### Part B\n",
    "\n",
    "Does Avila Adobe get more visitors:\n",
    "- in September-February (in LA, the fall and winter months), or \n",
    "- in March-August (in LA, the spring and summer)?  \n",
    "\n",
    "Using this information, when should the museum staff additional seasonal employees?"
   ]
  },
  {
   "cell_type": "code",
   "execution_count": 12,
   "id": "7a7a1e62",
   "metadata": {
    "execution": {
     "iopub.execute_input": "2022-09-01T01:58:41.156660Z",
     "iopub.status.busy": "2022-09-01T01:58:41.156215Z",
     "iopub.status.idle": "2022-09-01T01:58:41.161259Z",
     "shell.execute_reply": "2022-09-01T01:58:41.160091Z"
    },
    "papermill": {
     "duration": 0.018604,
     "end_time": "2022-09-01T01:58:41.163743",
     "exception": false,
     "start_time": "2022-09-01T01:58:41.145139",
     "status": "completed"
    },
    "tags": []
   },
   "outputs": [],
   "source": [
    "#step_4.b.hint()"
   ]
  },
  {
   "cell_type": "code",
   "execution_count": 13,
   "id": "95eab08d",
   "metadata": {
    "execution": {
     "iopub.execute_input": "2022-09-01T01:58:41.185473Z",
     "iopub.status.busy": "2022-09-01T01:58:41.185038Z",
     "iopub.status.idle": "2022-09-01T01:58:41.193488Z",
     "shell.execute_reply": "2022-09-01T01:58:41.192627Z"
    },
    "papermill": {
     "duration": 0.022208,
     "end_time": "2022-09-01T01:58:41.195640",
     "exception": false,
     "start_time": "2022-09-01T01:58:41.173432",
     "status": "completed"
    },
    "tags": []
   },
   "outputs": [
    {
     "data": {
      "application/javascript": [
       "parent.postMessage({\"jupyterEvent\": \"custom.exercise_interaction\", \"data\": {\"interactionType\": 3, \"questionType\": 4, \"questionId\": \"4.2_ThinkAvila\", \"learnToolsVersion\": \"0.3.4\", \"valueTowardsCompletion\": 0.0, \"failureMessage\": \"\", \"exceptionClass\": \"\", \"trace\": \"\", \"outcomeType\": 4}}, \"*\")"
      ],
      "text/plain": [
       "<IPython.core.display.Javascript object>"
      ]
     },
     "metadata": {},
     "output_type": "display_data"
    },
    {
     "data": {
      "text/markdown": [
       "<span style=\"color:#33cc99\">Solution:</span> The line chart generally dips to relatively low values around the early part of each year (in December and January), and reaches its highest values in the middle of the year (especially around May and June).  Thus, Avila Adobe usually gets more visitors in March-August (or the spring and summer months).  With this in mind, Avila Adobe could definitely benefit from hiring more seasonal employees to help with the extra work in March-August (the spring and summer)!"
      ],
      "text/plain": [
       "Solution: The line chart generally dips to relatively low values around the early part of each year (in December and January), and reaches its highest values in the middle of the year (especially around May and June).  Thus, Avila Adobe usually gets more visitors in March-August (or the spring and summer months).  With this in mind, Avila Adobe could definitely benefit from hiring more seasonal employees to help with the extra work in March-August (the spring and summer)!"
      ]
     },
     "metadata": {},
     "output_type": "display_data"
    }
   ],
   "source": [
    "# Check your answer (Run this code cell to receive credit!)\n",
    "step_4.b.solution()"
   ]
  },
  {
   "cell_type": "markdown",
   "id": "d5d64a8b",
   "metadata": {
    "papermill": {
     "duration": 0.009465,
     "end_time": "2022-09-01T01:58:41.215070",
     "exception": false,
     "start_time": "2022-09-01T01:58:41.205605",
     "status": "completed"
    },
    "tags": []
   },
   "source": [
    "# Keep going\n",
    "\n",
    "Move on to learn about **[bar charts and heatmaps](https://www.kaggle.com/alexisbcook/bar-charts-and-heatmaps)** with a new dataset!"
   ]
  },
  {
   "cell_type": "markdown",
   "id": "48c7e2ba",
   "metadata": {
    "papermill": {
     "duration": 0.009423,
     "end_time": "2022-09-01T01:58:41.234138",
     "exception": false,
     "start_time": "2022-09-01T01:58:41.224715",
     "status": "completed"
    },
    "tags": []
   },
   "source": [
    "---\n",
    "\n",
    "\n",
    "\n",
    "\n",
    "*Have questions or comments? Visit the [course discussion forum](https://www.kaggle.com/learn/data-visualization/discussion) to chat with other learners.*"
   ]
  }
 ],
 "metadata": {
  "kernelspec": {
   "display_name": "Python 3",
   "language": "python",
   "name": "python3"
  },
  "language_info": {
   "codemirror_mode": {
    "name": "ipython",
    "version": 3
   },
   "file_extension": ".py",
   "mimetype": "text/x-python",
   "name": "python",
   "nbconvert_exporter": "python",
   "pygments_lexer": "ipython3",
   "version": "3.7.12"
  },
  "papermill": {
   "default_parameters": {},
   "duration": 12.964279,
   "end_time": "2022-09-01T01:58:41.966311",
   "environment_variables": {},
   "exception": null,
   "input_path": "__notebook__.ipynb",
   "output_path": "__notebook__.ipynb",
   "parameters": {},
   "start_time": "2022-09-01T01:58:29.002032",
   "version": "2.3.4"
  }
 },
 "nbformat": 4,
 "nbformat_minor": 5
}
