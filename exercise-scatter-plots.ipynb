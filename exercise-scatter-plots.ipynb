{
 "cells": [
  {
   "cell_type": "markdown",
   "id": "de775d0c",
   "metadata": {
    "papermill": {
     "duration": 0.009237,
     "end_time": "2022-09-01T01:59:11.375662",
     "exception": false,
     "start_time": "2022-09-01T01:59:11.366425",
     "status": "completed"
    },
    "tags": []
   },
   "source": [
    "**This notebook is an exercise in the [Data Visualization](https://www.kaggle.com/learn/data-visualization) course.  You can reference the tutorial at [this link](https://www.kaggle.com/alexisbcook/scatter-plots).**\n",
    "\n",
    "---\n"
   ]
  },
  {
   "cell_type": "markdown",
   "id": "6b859a9b",
   "metadata": {
    "papermill": {
     "duration": 0.007693,
     "end_time": "2022-09-01T01:59:11.391583",
     "exception": false,
     "start_time": "2022-09-01T01:59:11.383890",
     "status": "completed"
    },
    "tags": []
   },
   "source": [
    "In this exercise, you will use your new knowledge to propose a solution to a real-world scenario.  To succeed, you will need to import data into Python, answer questions using the data, and generate **scatter plots** to understand patterns in the data.\n",
    "\n",
    "## Scenario\n",
    "\n",
    "You work for a major candy producer, and your goal is to write a report that your company can use to guide the design of its next product.  Soon after starting your research, you stumble across this [very interesting dataset](https://fivethirtyeight.com/features/the-ultimate-halloween-candy-power-ranking/) containing results from a fun survey to crowdsource favorite candies.\n",
    "\n",
    "## Setup\n",
    "\n",
    "Run the next cell to import and configure the Python libraries that you need to complete the exercise."
   ]
  },
  {
   "cell_type": "code",
   "execution_count": 1,
   "id": "ac6f30b1",
   "metadata": {
    "execution": {
     "iopub.execute_input": "2022-09-01T01:59:11.410449Z",
     "iopub.status.busy": "2022-09-01T01:59:11.409495Z",
     "iopub.status.idle": "2022-09-01T01:59:12.493061Z",
     "shell.execute_reply": "2022-09-01T01:59:12.491786Z"
    },
    "papermill": {
     "duration": 1.096058,
     "end_time": "2022-09-01T01:59:12.495683",
     "exception": false,
     "start_time": "2022-09-01T01:59:11.399625",
     "status": "completed"
    },
    "tags": []
   },
   "outputs": [
    {
     "name": "stdout",
     "output_type": "stream",
     "text": [
      "Setup Complete\n"
     ]
    }
   ],
   "source": [
    "import pandas as pd\n",
    "pd.plotting.register_matplotlib_converters()\n",
    "import matplotlib.pyplot as plt\n",
    "%matplotlib inline\n",
    "import seaborn as sns\n",
    "print(\"Setup Complete\")"
   ]
  },
  {
   "cell_type": "markdown",
   "id": "b79d96b2",
   "metadata": {
    "papermill": {
     "duration": 0.007817,
     "end_time": "2022-09-01T01:59:12.511985",
     "exception": false,
     "start_time": "2022-09-01T01:59:12.504168",
     "status": "completed"
    },
    "tags": []
   },
   "source": [
    "The questions below will give you feedback on your work. Run the following cell to set up our feedback system."
   ]
  },
  {
   "cell_type": "code",
   "execution_count": 2,
   "id": "c4d1e5f2",
   "metadata": {
    "execution": {
     "iopub.execute_input": "2022-09-01T01:59:12.530259Z",
     "iopub.status.busy": "2022-09-01T01:59:12.529101Z",
     "iopub.status.idle": "2022-09-01T01:59:12.600041Z",
     "shell.execute_reply": "2022-09-01T01:59:12.598638Z"
    },
    "papermill": {
     "duration": 0.082572,
     "end_time": "2022-09-01T01:59:12.602548",
     "exception": false,
     "start_time": "2022-09-01T01:59:12.519976",
     "status": "completed"
    },
    "tags": []
   },
   "outputs": [
    {
     "name": "stdout",
     "output_type": "stream",
     "text": [
      "Setup Complete\n"
     ]
    }
   ],
   "source": [
    "# Set up code checking\n",
    "import os\n",
    "if not os.path.exists(\"../input/candy.csv\"):\n",
    "    os.symlink(\"../input/data-for-datavis/candy.csv\", \"../input/candy.csv\") \n",
    "from learntools.core import binder\n",
    "binder.bind(globals())\n",
    "from learntools.data_viz_to_coder.ex4 import *\n",
    "print(\"Setup Complete\")"
   ]
  },
  {
   "cell_type": "markdown",
   "id": "650c6538",
   "metadata": {
    "papermill": {
     "duration": 0.007991,
     "end_time": "2022-09-01T01:59:12.618903",
     "exception": false,
     "start_time": "2022-09-01T01:59:12.610912",
     "status": "completed"
    },
    "tags": []
   },
   "source": [
    "## Step 1: Load the Data\n",
    "\n",
    "Read the candy data file into `candy_data`.  Use the `\"id\"` column to label the rows."
   ]
  },
  {
   "cell_type": "code",
   "execution_count": 3,
   "id": "fc55d3aa",
   "metadata": {
    "execution": {
     "iopub.execute_input": "2022-09-01T01:59:12.637059Z",
     "iopub.status.busy": "2022-09-01T01:59:12.636359Z",
     "iopub.status.idle": "2022-09-01T01:59:12.650920Z",
     "shell.execute_reply": "2022-09-01T01:59:12.650023Z"
    },
    "papermill": {
     "duration": 0.025922,
     "end_time": "2022-09-01T01:59:12.653035",
     "exception": false,
     "start_time": "2022-09-01T01:59:12.627113",
     "status": "completed"
    },
    "tags": []
   },
   "outputs": [
    {
     "data": {
      "application/javascript": [
       "parent.postMessage({\"jupyterEvent\": \"custom.exercise_interaction\", \"data\": {\"outcomeType\": 1, \"valueTowardsCompletion\": 0.3333333333333333, \"interactionType\": 1, \"questionType\": 1, \"questionId\": \"1_LoadData\", \"learnToolsVersion\": \"0.3.4\", \"failureMessage\": \"\", \"exceptionClass\": \"\", \"trace\": \"\"}}, \"*\")"
      ],
      "text/plain": [
       "<IPython.core.display.Javascript object>"
      ]
     },
     "metadata": {},
     "output_type": "display_data"
    },
    {
     "data": {
      "text/markdown": [
       "<span style=\"color:#33cc33\">Correct</span>"
      ],
      "text/plain": [
       "Correct"
      ]
     },
     "metadata": {},
     "output_type": "display_data"
    }
   ],
   "source": [
    "# Path of the file to read\n",
    "candy_filepath = \"../input/candy.csv\"\n",
    "\n",
    "# Fill in the line below to read the file into a variable candy_data\n",
    "candy_data = pd.read_csv(candy_filepath,index_col='id')\n",
    "\n",
    "# Run the line below with no changes to check that you've loaded the data correctly\n",
    "step_1.check()"
   ]
  },
  {
   "cell_type": "code",
   "execution_count": 4,
   "id": "3571ba68",
   "metadata": {
    "execution": {
     "iopub.execute_input": "2022-09-01T01:59:12.672658Z",
     "iopub.status.busy": "2022-09-01T01:59:12.671996Z",
     "iopub.status.idle": "2022-09-01T01:59:12.676325Z",
     "shell.execute_reply": "2022-09-01T01:59:12.675609Z"
    },
    "papermill": {
     "duration": 0.01609,
     "end_time": "2022-09-01T01:59:12.678407",
     "exception": false,
     "start_time": "2022-09-01T01:59:12.662317",
     "status": "completed"
    },
    "tags": []
   },
   "outputs": [],
   "source": [
    "# Lines below will give you a hint or solution code\n",
    "#step_1.hint()\n",
    "#step_1.solution()"
   ]
  },
  {
   "cell_type": "markdown",
   "id": "14b4fe65",
   "metadata": {
    "papermill": {
     "duration": 0.00801,
     "end_time": "2022-09-01T01:59:12.694772",
     "exception": false,
     "start_time": "2022-09-01T01:59:12.686762",
     "status": "completed"
    },
    "tags": []
   },
   "source": [
    "## Step 2: Review the data\n",
    "\n",
    "Use a Python command to print the first five rows of the data."
   ]
  },
  {
   "cell_type": "code",
   "execution_count": 5,
   "id": "6a92f0ba",
   "metadata": {
    "execution": {
     "iopub.execute_input": "2022-09-01T01:59:12.713384Z",
     "iopub.status.busy": "2022-09-01T01:59:12.712775Z",
     "iopub.status.idle": "2022-09-01T01:59:12.733677Z",
     "shell.execute_reply": "2022-09-01T01:59:12.732909Z"
    },
    "papermill": {
     "duration": 0.03258,
     "end_time": "2022-09-01T01:59:12.735627",
     "exception": false,
     "start_time": "2022-09-01T01:59:12.703047",
     "status": "completed"
    },
    "tags": []
   },
   "outputs": [
    {
     "data": {
      "text/html": [
       "<div>\n",
       "<style scoped>\n",
       "    .dataframe tbody tr th:only-of-type {\n",
       "        vertical-align: middle;\n",
       "    }\n",
       "\n",
       "    .dataframe tbody tr th {\n",
       "        vertical-align: top;\n",
       "    }\n",
       "\n",
       "    .dataframe thead th {\n",
       "        text-align: right;\n",
       "    }\n",
       "</style>\n",
       "<table border=\"1\" class=\"dataframe\">\n",
       "  <thead>\n",
       "    <tr style=\"text-align: right;\">\n",
       "      <th></th>\n",
       "      <th>competitorname</th>\n",
       "      <th>chocolate</th>\n",
       "      <th>fruity</th>\n",
       "      <th>caramel</th>\n",
       "      <th>peanutyalmondy</th>\n",
       "      <th>nougat</th>\n",
       "      <th>crispedricewafer</th>\n",
       "      <th>hard</th>\n",
       "      <th>bar</th>\n",
       "      <th>pluribus</th>\n",
       "      <th>sugarpercent</th>\n",
       "      <th>pricepercent</th>\n",
       "      <th>winpercent</th>\n",
       "    </tr>\n",
       "    <tr>\n",
       "      <th>id</th>\n",
       "      <th></th>\n",
       "      <th></th>\n",
       "      <th></th>\n",
       "      <th></th>\n",
       "      <th></th>\n",
       "      <th></th>\n",
       "      <th></th>\n",
       "      <th></th>\n",
       "      <th></th>\n",
       "      <th></th>\n",
       "      <th></th>\n",
       "      <th></th>\n",
       "      <th></th>\n",
       "    </tr>\n",
       "  </thead>\n",
       "  <tbody>\n",
       "    <tr>\n",
       "      <th>0</th>\n",
       "      <td>100 Grand</td>\n",
       "      <td>Yes</td>\n",
       "      <td>No</td>\n",
       "      <td>Yes</td>\n",
       "      <td>No</td>\n",
       "      <td>No</td>\n",
       "      <td>Yes</td>\n",
       "      <td>No</td>\n",
       "      <td>Yes</td>\n",
       "      <td>No</td>\n",
       "      <td>0.732</td>\n",
       "      <td>0.860</td>\n",
       "      <td>66.971725</td>\n",
       "    </tr>\n",
       "    <tr>\n",
       "      <th>1</th>\n",
       "      <td>3 Musketeers</td>\n",
       "      <td>Yes</td>\n",
       "      <td>No</td>\n",
       "      <td>No</td>\n",
       "      <td>No</td>\n",
       "      <td>Yes</td>\n",
       "      <td>No</td>\n",
       "      <td>No</td>\n",
       "      <td>Yes</td>\n",
       "      <td>No</td>\n",
       "      <td>0.604</td>\n",
       "      <td>0.511</td>\n",
       "      <td>67.602936</td>\n",
       "    </tr>\n",
       "    <tr>\n",
       "      <th>2</th>\n",
       "      <td>Air Heads</td>\n",
       "      <td>No</td>\n",
       "      <td>Yes</td>\n",
       "      <td>No</td>\n",
       "      <td>No</td>\n",
       "      <td>No</td>\n",
       "      <td>No</td>\n",
       "      <td>No</td>\n",
       "      <td>No</td>\n",
       "      <td>No</td>\n",
       "      <td>0.906</td>\n",
       "      <td>0.511</td>\n",
       "      <td>52.341465</td>\n",
       "    </tr>\n",
       "    <tr>\n",
       "      <th>3</th>\n",
       "      <td>Almond Joy</td>\n",
       "      <td>Yes</td>\n",
       "      <td>No</td>\n",
       "      <td>No</td>\n",
       "      <td>Yes</td>\n",
       "      <td>No</td>\n",
       "      <td>No</td>\n",
       "      <td>No</td>\n",
       "      <td>Yes</td>\n",
       "      <td>No</td>\n",
       "      <td>0.465</td>\n",
       "      <td>0.767</td>\n",
       "      <td>50.347546</td>\n",
       "    </tr>\n",
       "    <tr>\n",
       "      <th>4</th>\n",
       "      <td>Baby Ruth</td>\n",
       "      <td>Yes</td>\n",
       "      <td>No</td>\n",
       "      <td>Yes</td>\n",
       "      <td>Yes</td>\n",
       "      <td>Yes</td>\n",
       "      <td>No</td>\n",
       "      <td>No</td>\n",
       "      <td>Yes</td>\n",
       "      <td>No</td>\n",
       "      <td>0.604</td>\n",
       "      <td>0.767</td>\n",
       "      <td>56.914547</td>\n",
       "    </tr>\n",
       "  </tbody>\n",
       "</table>\n",
       "</div>"
      ],
      "text/plain": [
       "   competitorname chocolate fruity caramel peanutyalmondy nougat  \\\n",
       "id                                                                 \n",
       "0       100 Grand       Yes     No     Yes             No     No   \n",
       "1    3 Musketeers       Yes     No      No             No    Yes   \n",
       "2       Air Heads        No    Yes      No             No     No   \n",
       "3      Almond Joy       Yes     No      No            Yes     No   \n",
       "4       Baby Ruth       Yes     No     Yes            Yes    Yes   \n",
       "\n",
       "   crispedricewafer hard  bar pluribus  sugarpercent  pricepercent  winpercent  \n",
       "id                                                                              \n",
       "0               Yes   No  Yes       No         0.732         0.860   66.971725  \n",
       "1                No   No  Yes       No         0.604         0.511   67.602936  \n",
       "2                No   No   No       No         0.906         0.511   52.341465  \n",
       "3                No   No  Yes       No         0.465         0.767   50.347546  \n",
       "4                No   No  Yes       No         0.604         0.767   56.914547  "
      ]
     },
     "execution_count": 5,
     "metadata": {},
     "output_type": "execute_result"
    }
   ],
   "source": [
    "# Print the first five rows of the data\n",
    "____ # Your code here\n",
    "candy_data.head()"
   ]
  },
  {
   "cell_type": "markdown",
   "id": "4573fde8",
   "metadata": {
    "papermill": {
     "duration": 0.009432,
     "end_time": "2022-09-01T01:59:12.753680",
     "exception": false,
     "start_time": "2022-09-01T01:59:12.744248",
     "status": "completed"
    },
    "tags": []
   },
   "source": [
    "The dataset contains 83 rows, where each corresponds to a different candy bar.  There are 13 columns:\n",
    "- `'competitorname'` contains the name of the candy bar. \n",
    "- the next **9** columns (from `'chocolate'` to `'pluribus'`) describe the candy.  For instance, rows with chocolate candies have `\"Yes\"` in the `'chocolate'` column (and candies without chocolate have `\"No\"` in the same column).\n",
    "- `'sugarpercent'` provides some indication of the amount of sugar, where higher values signify higher sugar content.\n",
    "- `'pricepercent'` shows the price per unit, relative to the other candies in the dataset.\n",
    "- `'winpercent'` is calculated from the survey results; higher values indicate that the candy was more popular with survey respondents.\n",
    "\n",
    "Use the first five rows of the data to answer the questions below."
   ]
  },
  {
   "cell_type": "code",
   "execution_count": 6,
   "id": "00d8c2c3",
   "metadata": {
    "execution": {
     "iopub.execute_input": "2022-09-01T01:59:12.778130Z",
     "iopub.status.busy": "2022-09-01T01:59:12.776894Z",
     "iopub.status.idle": "2022-09-01T01:59:12.790199Z",
     "shell.execute_reply": "2022-09-01T01:59:12.788636Z"
    },
    "papermill": {
     "duration": 0.02992,
     "end_time": "2022-09-01T01:59:12.792726",
     "exception": false,
     "start_time": "2022-09-01T01:59:12.762806",
     "status": "completed"
    },
    "tags": []
   },
   "outputs": [
    {
     "data": {
      "application/javascript": [
       "parent.postMessage({\"jupyterEvent\": \"custom.exercise_interaction\", \"data\": {\"outcomeType\": 1, \"valueTowardsCompletion\": 0.3333333333333333, \"interactionType\": 1, \"questionType\": 1, \"questionId\": \"2_ReviewData\", \"learnToolsVersion\": \"0.3.4\", \"failureMessage\": \"\", \"exceptionClass\": \"\", \"trace\": \"\"}}, \"*\")"
      ],
      "text/plain": [
       "<IPython.core.display.Javascript object>"
      ]
     },
     "metadata": {},
     "output_type": "display_data"
    },
    {
     "data": {
      "text/markdown": [
       "<span style=\"color:#33cc33\">Correct</span>"
      ],
      "text/plain": [
       "Correct"
      ]
     },
     "metadata": {},
     "output_type": "display_data"
    }
   ],
   "source": [
    "# Fill in the line below: Which candy was more popular with survey respondents:\n",
    "# '3 Musketeers' or 'Almond Joy'?  (Please enclose your answer in single quotes.)\n",
    "more_popular = '3 Musketeers'\n",
    "\n",
    "# Fill in the line below: Which candy has higher sugar content: 'Air Heads'\n",
    "# or 'Baby Ruth'? (Please enclose your answer in single quotes.)\n",
    "more_sugar = 'Air Heads'\n",
    "\n",
    "# Check your answers\n",
    "step_2.check()"
   ]
  },
  {
   "cell_type": "code",
   "execution_count": 7,
   "id": "c8401258",
   "metadata": {
    "execution": {
     "iopub.execute_input": "2022-09-01T01:59:12.817207Z",
     "iopub.status.busy": "2022-09-01T01:59:12.816378Z",
     "iopub.status.idle": "2022-09-01T01:59:12.829098Z",
     "shell.execute_reply": "2022-09-01T01:59:12.828217Z"
    },
    "papermill": {
     "duration": 0.028611,
     "end_time": "2022-09-01T01:59:12.831101",
     "exception": false,
     "start_time": "2022-09-01T01:59:12.802490",
     "status": "completed"
    },
    "tags": []
   },
   "outputs": [
    {
     "data": {
      "application/javascript": [
       "parent.postMessage({\"jupyterEvent\": \"custom.exercise_interaction\", \"data\": {\"interactionType\": 3, \"questionType\": 1, \"questionId\": \"2_ReviewData\", \"learnToolsVersion\": \"0.3.4\", \"valueTowardsCompletion\": 0.0, \"failureMessage\": \"\", \"exceptionClass\": \"\", \"trace\": \"\", \"outcomeType\": 4}}, \"*\")"
      ],
      "text/plain": [
       "<IPython.core.display.Javascript object>"
      ]
     },
     "metadata": {},
     "output_type": "display_data"
    },
    {
     "data": {
      "text/markdown": [
       "<span style=\"color:#33cc99\">Solution:</span> \n",
       "```python\n",
       "# Print the first five rows of the data\n",
       "candy_data.head()\n",
       "# Which candy was more popular with survey respondents:\n",
       "# '3 Musketeers' or 'Almond Joy'?\n",
       "more_popular = '3 Musketeers'\n",
       "# Which candy has higher sugar content: 'Air Heads'\n",
       "# or 'Baby Ruth'?\n",
       "more_sugar = 'Air Heads'\n",
       "\n",
       "```"
      ],
      "text/plain": [
       "Solution: \n",
       "```python\n",
       "# Print the first five rows of the data\n",
       "candy_data.head()\n",
       "# Which candy was more popular with survey respondents:\n",
       "# '3 Musketeers' or 'Almond Joy'?\n",
       "more_popular = '3 Musketeers'\n",
       "# Which candy has higher sugar content: 'Air Heads'\n",
       "# or 'Baby Ruth'?\n",
       "more_sugar = 'Air Heads'\n",
       "\n",
       "```"
      ]
     },
     "metadata": {},
     "output_type": "display_data"
    }
   ],
   "source": [
    "# Lines below will give you a hint or solution code\n",
    "#step_2.hint()\n",
    "step_2.solution()"
   ]
  },
  {
   "cell_type": "markdown",
   "id": "5980963f",
   "metadata": {
    "papermill": {
     "duration": 0.009014,
     "end_time": "2022-09-01T01:59:12.849473",
     "exception": false,
     "start_time": "2022-09-01T01:59:12.840459",
     "status": "completed"
    },
    "tags": []
   },
   "source": [
    "## Step 3: The role of sugar\n",
    "\n",
    "Do people tend to prefer candies with higher sugar content?  \n",
    "\n",
    "#### Part A\n",
    "\n",
    "Create a scatter plot that shows the relationship between `'sugarpercent'` (on the horizontal x-axis) and `'winpercent'` (on the vertical y-axis).  _Don't add a regression line just yet -- you'll do that in the next step!_"
   ]
  },
  {
   "cell_type": "code",
   "execution_count": 8,
   "id": "1eb95830",
   "metadata": {
    "execution": {
     "iopub.execute_input": "2022-09-01T01:59:12.869856Z",
     "iopub.status.busy": "2022-09-01T01:59:12.869242Z",
     "iopub.status.idle": "2022-09-01T01:59:13.129424Z",
     "shell.execute_reply": "2022-09-01T01:59:13.128248Z"
    },
    "papermill": {
     "duration": 0.27323,
     "end_time": "2022-09-01T01:59:13.132073",
     "exception": false,
     "start_time": "2022-09-01T01:59:12.858843",
     "status": "completed"
    },
    "tags": []
   },
   "outputs": [
    {
     "data": {
      "application/javascript": [
       "parent.postMessage({\"jupyterEvent\": \"custom.exercise_interaction\", \"data\": {\"outcomeType\": 1, \"valueTowardsCompletion\": 0.3333333333333333, \"interactionType\": 1, \"questionType\": 2, \"questionId\": \"3.1_PlotBlueScatter\", \"learnToolsVersion\": \"0.3.4\", \"failureMessage\": \"\", \"exceptionClass\": \"\", \"trace\": \"\"}}, \"*\")"
      ],
      "text/plain": [
       "<IPython.core.display.Javascript object>"
      ]
     },
     "metadata": {},
     "output_type": "display_data"
    },
    {
     "data": {
      "text/markdown": [
       "<span style=\"color:#33cc33\">Correct</span>"
      ],
      "text/plain": [
       "Correct"
      ]
     },
     "metadata": {},
     "output_type": "display_data"
    },
    {
     "data": {
      "image/png": "[encoded data removed]",
      "text/plain": [
       "<Figure size 432x288 with 1 Axes>"
      ]
     },
     "metadata": {
      "needs_background": "light"
     },
     "output_type": "display_data"
    }
   ],
   "source": [
    "# Scatter plot showing the relationship between 'sugarpercent' and 'winpercent'\n",
    "____ # Your code here\n",
    "sns.scatterplot(x=candy_data.sugarpercent,y=candy_data.winpercent)\n",
    "# Check your answer\n",
    "step_3.a.check()"
   ]
  },
  {
   "cell_type": "code",
   "execution_count": 9,
   "id": "6261df39",
   "metadata": {
    "execution": {
     "iopub.execute_input": "2022-09-01T01:59:13.153821Z",
     "iopub.status.busy": "2022-09-01T01:59:13.152896Z",
     "iopub.status.idle": "2022-09-01T01:59:13.157330Z",
     "shell.execute_reply": "2022-09-01T01:59:13.156271Z"
    },
    "papermill": {
     "duration": 0.017665,
     "end_time": "2022-09-01T01:59:13.159731",
     "exception": false,
     "start_time": "2022-09-01T01:59:13.142066",
     "status": "completed"
    },
    "tags": []
   },
   "outputs": [],
   "source": [
    "# Lines below will give you a hint or solution code\n",
    "#step_3.a.hint()\n",
    "#step_3.a.solution_plot()"
   ]
  },
  {
   "cell_type": "markdown",
   "id": "104ce500",
   "metadata": {
    "papermill": {
     "duration": 0.009314,
     "end_time": "2022-09-01T01:59:13.179038",
     "exception": false,
     "start_time": "2022-09-01T01:59:13.169724",
     "status": "completed"
    },
    "tags": []
   },
   "source": [
    "#### Part B\n",
    "\n",
    "Does the scatter plot show a **strong** correlation between the two variables?  If so, are candies with more sugar relatively more or less popular with the survey respondents?"
   ]
  },
  {
   "cell_type": "code",
   "execution_count": 10,
   "id": "edcbb75e",
   "metadata": {
    "execution": {
     "iopub.execute_input": "2022-09-01T01:59:13.206376Z",
     "iopub.status.busy": "2022-09-01T01:59:13.205612Z",
     "iopub.status.idle": "2022-09-01T01:59:13.210198Z",
     "shell.execute_reply": "2022-09-01T01:59:13.209041Z"
    },
    "papermill": {
     "duration": 0.02438,
     "end_time": "2022-09-01T01:59:13.213264",
     "exception": false,
     "start_time": "2022-09-01T01:59:13.188884",
     "status": "completed"
    },
    "tags": []
   },
   "outputs": [],
   "source": [
    "#step_3.b.hint()"
   ]
  },
  {
   "cell_type": "code",
   "execution_count": 11,
   "id": "cc4e36c9",
   "metadata": {
    "execution": {
     "iopub.execute_input": "2022-09-01T01:59:13.237880Z",
     "iopub.status.busy": "2022-09-01T01:59:13.236691Z",
     "iopub.status.idle": "2022-09-01T01:59:13.248146Z",
     "shell.execute_reply": "2022-09-01T01:59:13.247336Z"
    },
    "papermill": {
     "duration": 0.026895,
     "end_time": "2022-09-01T01:59:13.250924",
     "exception": false,
     "start_time": "2022-09-01T01:59:13.224029",
     "status": "completed"
    },
    "tags": []
   },
   "outputs": [
    {
     "data": {
      "application/javascript": [
       "parent.postMessage({\"jupyterEvent\": \"custom.exercise_interaction\", \"data\": {\"interactionType\": 3, \"questionType\": 4, \"questionId\": \"3.2_ThinkBlueScatter\", \"learnToolsVersion\": \"0.3.4\", \"valueTowardsCompletion\": 0.0, \"failureMessage\": \"\", \"exceptionClass\": \"\", \"trace\": \"\", \"outcomeType\": 4}}, \"*\")"
      ],
      "text/plain": [
       "<IPython.core.display.Javascript object>"
      ]
     },
     "metadata": {},
     "output_type": "display_data"
    },
    {
     "data": {
      "text/markdown": [
       "<span style=\"color:#33cc99\">Solution:</span> The scatter plot does not show a strong correlation between the two variables. Since there is no clear relationship between the two variables, this tells us that sugar content does not play a strong role in candy popularity."
      ],
      "text/plain": [
       "Solution: The scatter plot does not show a strong correlation between the two variables. Since there is no clear relationship between the two variables, this tells us that sugar content does not play a strong role in candy popularity."
      ]
     },
     "metadata": {},
     "output_type": "display_data"
    }
   ],
   "source": [
    "# Check your answer (Run this code cell to receive credit!)\n",
    "step_3.b.solution()"
   ]
  },
  {
   "cell_type": "markdown",
   "id": "eca667b1",
   "metadata": {
    "papermill": {
     "duration": 0.009822,
     "end_time": "2022-09-01T01:59:13.271439",
     "exception": false,
     "start_time": "2022-09-01T01:59:13.261617",
     "status": "completed"
    },
    "tags": []
   },
   "source": [
    "## Step 4: Take a closer look\n",
    "\n",
    "#### Part A\n",
    "\n",
    "Create the same scatter plot you created in **Step 3**, but now with a regression line!"
   ]
  },
  {
   "cell_type": "code",
   "execution_count": 12,
   "id": "1c53ef00",
   "metadata": {
    "execution": {
     "iopub.execute_input": "2022-09-01T01:59:13.293661Z",
     "iopub.status.busy": "2022-09-01T01:59:13.293239Z",
     "iopub.status.idle": "2022-09-01T01:59:13.629069Z",
     "shell.execute_reply": "2022-09-01T01:59:13.627849Z"
    },
    "papermill": {
     "duration": 0.349677,
     "end_time": "2022-09-01T01:59:13.631401",
     "exception": false,
     "start_time": "2022-09-01T01:59:13.281724",
     "status": "completed"
    },
    "tags": []
   },
   "outputs": [
    {
     "data": {
      "application/javascript": [
       "parent.postMessage({\"jupyterEvent\": \"custom.exercise_interaction\", \"data\": {\"outcomeType\": 1, \"valueTowardsCompletion\": 0.3333333333333333, \"interactionType\": 1, \"questionType\": 2, \"questionId\": \"4.1_PlotBlueReg\", \"learnToolsVersion\": \"0.3.4\", \"failureMessage\": \"\", \"exceptionClass\": \"\", \"trace\": \"\"}}, \"*\")"
      ],
      "text/plain": [
       "<IPython.core.display.Javascript object>"
      ]
     },
     "metadata": {},
     "output_type": "display_data"
    },
    {
     "data": {
      "text/markdown": [
       "<span style=\"color:#33cc33\">Correct</span>"
      ],
      "text/plain": [
       "Correct"
      ]
     },
     "metadata": {},
     "output_type": "display_data"
    },
    {
     "data": {
      "image/png": "[encoded data removed]",
      "text/plain": [
       "<Figure size 432x288 with 1 Axes>"
      ]
     },
     "metadata": {
      "needs_background": "light"
     },
     "output_type": "display_data"
    }
   ],
   "source": [
    "# Scatter plot w/ regression line showing the relationship between 'sugarpercent' and 'winpercent'\n",
    "____ # Your code here\n",
    "sns.regplot(x=candy_data.sugarpercent,y=candy_data.winpercent)\n",
    "# Check your answer\n",
    "step_4.a.check()"
   ]
  },
  {
   "cell_type": "code",
   "execution_count": 13,
   "id": "71d5e2e4",
   "metadata": {
    "execution": {
     "iopub.execute_input": "2022-09-01T01:59:13.655035Z",
     "iopub.status.busy": "2022-09-01T01:59:13.654640Z",
     "iopub.status.idle": "2022-09-01T01:59:13.659120Z",
     "shell.execute_reply": "2022-09-01T01:59:13.658065Z"
    },
    "papermill": {
     "duration": 0.018747,
     "end_time": "2022-09-01T01:59:13.661275",
     "exception": false,
     "start_time": "2022-09-01T01:59:13.642528",
     "status": "completed"
    },
    "tags": []
   },
   "outputs": [],
   "source": [
    "# Lines below will give you a hint or solution code\n",
    "#step_4.a.hint()\n",
    "#step_4.a.solution_plot()"
   ]
  },
  {
   "cell_type": "markdown",
   "id": "bfc1895f",
   "metadata": {
    "papermill": {
     "duration": 0.013494,
     "end_time": "2022-09-01T01:59:13.686135",
     "exception": false,
     "start_time": "2022-09-01T01:59:13.672641",
     "status": "completed"
    },
    "tags": []
   },
   "source": [
    "#### Part B\n",
    "\n",
    "According to the plot above, is there a **slight** correlation between `'winpercent'` and `'sugarpercent'`?  What does this tell you about the candy that people tend to prefer?"
   ]
  },
  {
   "cell_type": "code",
   "execution_count": 14,
   "id": "5d3ba3fa",
   "metadata": {
    "execution": {
     "iopub.execute_input": "2022-09-01T01:59:13.714729Z",
     "iopub.status.busy": "2022-09-01T01:59:13.713117Z",
     "iopub.status.idle": "2022-09-01T01:59:13.725725Z",
     "shell.execute_reply": "2022-09-01T01:59:13.724180Z"
    },
    "papermill": {
     "duration": 0.028999,
     "end_time": "2022-09-01T01:59:13.728267",
     "exception": false,
     "start_time": "2022-09-01T01:59:13.699268",
     "status": "completed"
    },
    "tags": []
   },
   "outputs": [
    {
     "data": {
      "application/javascript": [
       "parent.postMessage({\"jupyterEvent\": \"custom.exercise_interaction\", \"data\": {\"interactionType\": 2, \"questionType\": 4, \"questionId\": \"4.2_ThinkBlueReg\", \"learnToolsVersion\": \"0.3.4\", \"valueTowardsCompletion\": 0.0, \"failureMessage\": \"\", \"exceptionClass\": \"\", \"trace\": \"\", \"outcomeType\": 4}}, \"*\")"
      ],
      "text/plain": [
       "<IPython.core.display.Javascript object>"
      ]
     },
     "metadata": {},
     "output_type": "display_data"
    },
    {
     "data": {
      "text/markdown": [
       "<span style=\"color:#3366cc\">Hint:</span> Does the regression line have a positive or negative slope?"
      ],
      "text/plain": [
       "Hint: Does the regression line have a positive or negative slope?"
      ]
     },
     "metadata": {},
     "output_type": "display_data"
    }
   ],
   "source": [
    "step_4.b.hint()"
   ]
  },
  {
   "cell_type": "code",
   "execution_count": 15,
   "id": "5180f2b3",
   "metadata": {
    "execution": {
     "iopub.execute_input": "2022-09-01T01:59:13.755164Z",
     "iopub.status.busy": "2022-09-01T01:59:13.754144Z",
     "iopub.status.idle": "2022-09-01T01:59:13.763402Z",
     "shell.execute_reply": "2022-09-01T01:59:13.762537Z"
    },
    "papermill": {
     "duration": 0.025951,
     "end_time": "2022-09-01T01:59:13.765723",
     "exception": false,
     "start_time": "2022-09-01T01:59:13.739772",
     "status": "completed"
    },
    "tags": []
   },
   "outputs": [
    {
     "data": {
      "application/javascript": [
       "parent.postMessage({\"jupyterEvent\": \"custom.exercise_interaction\", \"data\": {\"interactionType\": 3, \"questionType\": 4, \"questionId\": \"4.2_ThinkBlueReg\", \"learnToolsVersion\": \"0.3.4\", \"valueTowardsCompletion\": 0.0, \"failureMessage\": \"\", \"exceptionClass\": \"\", \"trace\": \"\", \"outcomeType\": 4}}, \"*\")"
      ],
      "text/plain": [
       "<IPython.core.display.Javascript object>"
      ]
     },
     "metadata": {},
     "output_type": "display_data"
    },
    {
     "data": {
      "text/markdown": [
       "<span style=\"color:#33cc99\">Solution:</span> Since the regression line has a slightly positive slope, this tells us that there is a slightly positive correlation between `'winpercent'` and `'sugarpercent'`. Thus, people have a slight preference for candies containing relatively more sugar."
      ],
      "text/plain": [
       "Solution: Since the regression line has a slightly positive slope, this tells us that there is a slightly positive correlation between `'winpercent'` and `'sugarpercent'`. Thus, people have a slight preference for candies containing relatively more sugar."
      ]
     },
     "metadata": {},
     "output_type": "display_data"
    }
   ],
   "source": [
    "# Check your answer (Run this code cell to receive credit!)\n",
    "step_4.b.solution()"
   ]
  },
  {
   "cell_type": "markdown",
   "id": "45dc4708",
   "metadata": {
    "papermill": {
     "duration": 0.011267,
     "end_time": "2022-09-01T01:59:13.791436",
     "exception": false,
     "start_time": "2022-09-01T01:59:13.780169",
     "status": "completed"
    },
    "tags": []
   },
   "source": [
    "## Step 5: Chocolate!\n",
    "\n",
    "In the code cell below, create a scatter plot to show the relationship between `'pricepercent'` (on the horizontal x-axis) and `'winpercent'` (on the vertical y-axis). Use the `'chocolate'` column to color-code the points.  _Don't add any regression lines just yet -- you'll do that in the next step!_"
   ]
  },
  {
   "cell_type": "code",
   "execution_count": 16,
   "id": "fcf4301c",
   "metadata": {
    "execution": {
     "iopub.execute_input": "2022-09-01T01:59:13.816338Z",
     "iopub.status.busy": "2022-09-01T01:59:13.815652Z",
     "iopub.status.idle": "2022-09-01T01:59:14.115506Z",
     "shell.execute_reply": "2022-09-01T01:59:14.114261Z"
    },
    "papermill": {
     "duration": 0.314972,
     "end_time": "2022-09-01T01:59:14.117753",
     "exception": false,
     "start_time": "2022-09-01T01:59:13.802781",
     "status": "completed"
    },
    "tags": []
   },
   "outputs": [
    {
     "data": {
      "application/javascript": [
       "parent.postMessage({\"jupyterEvent\": \"custom.exercise_interaction\", \"data\": {\"outcomeType\": 1, \"valueTowardsCompletion\": 0.3333333333333333, \"interactionType\": 1, \"questionType\": 2, \"questionId\": \"5_ColorScatter\", \"learnToolsVersion\": \"0.3.4\", \"failureMessage\": \"\", \"exceptionClass\": \"\", \"trace\": \"\"}}, \"*\")"
      ],
      "text/plain": [
       "<IPython.core.display.Javascript object>"
      ]
     },
     "metadata": {},
     "output_type": "display_data"
    },
    {
     "data": {
      "text/markdown": [
       "<span style=\"color:#33cc33\">Correct</span>"
      ],
      "text/plain": [
       "Correct"
      ]
     },
     "metadata": {},
     "output_type": "display_data"
    },
    {
     "data": {
      "image/png": "[encoded data removed]",
      "text/plain": [
       "<Figure size 432x288 with 1 Axes>"
      ]
     },
     "metadata": {
      "needs_background": "light"
     },
     "output_type": "display_data"
    }
   ],
   "source": [
    "# Scatter plot showing the relationship between 'pricepercent', 'winpercent', and 'chocolate'\n",
    "____ # Your code here\n",
    "sns.scatterplot(x='pricepercent',y='winpercent',hue='chocolate',data=candy_data)\n",
    "# Check your answer\n",
    "step_5.check()"
   ]
  },
  {
   "cell_type": "code",
   "execution_count": 17,
   "id": "f52a1de3",
   "metadata": {
    "execution": {
     "iopub.execute_input": "2022-09-01T01:59:14.143627Z",
     "iopub.status.busy": "2022-09-01T01:59:14.143209Z",
     "iopub.status.idle": "2022-09-01T01:59:14.147655Z",
     "shell.execute_reply": "2022-09-01T01:59:14.146612Z"
    },
    "papermill": {
     "duration": 0.019954,
     "end_time": "2022-09-01T01:59:14.149805",
     "exception": false,
     "start_time": "2022-09-01T01:59:14.129851",
     "status": "completed"
    },
    "tags": []
   },
   "outputs": [],
   "source": [
    "# Lines below will give you a hint or solution code\n",
    "#step_5.hint()\n",
    "#step_5.solution_plot()"
   ]
  },
  {
   "cell_type": "markdown",
   "id": "f24603d3",
   "metadata": {
    "papermill": {
     "duration": 0.011379,
     "end_time": "2022-09-01T01:59:14.173185",
     "exception": false,
     "start_time": "2022-09-01T01:59:14.161806",
     "status": "completed"
    },
    "tags": []
   },
   "source": [
    "Can you see any interesting patterns in the scatter plot?  We'll investigate this plot further  by adding regression lines in the next step!\n",
    "\n",
    "## Step 6: Investigate chocolate\n",
    "\n",
    "#### Part A\n",
    "\n",
    "Create the same scatter plot you created in **Step 5**, but now with two regression lines, corresponding to (1) chocolate candies and (2) candies without chocolate."
   ]
  },
  {
   "cell_type": "code",
   "execution_count": 18,
   "id": "0a1988a2",
   "metadata": {
    "execution": {
     "iopub.execute_input": "2022-09-01T01:59:14.198527Z",
     "iopub.status.busy": "2022-09-01T01:59:14.198065Z",
     "iopub.status.idle": "2022-09-01T01:59:14.864173Z",
     "shell.execute_reply": "2022-09-01T01:59:14.862985Z"
    },
    "papermill": {
     "duration": 0.681693,
     "end_time": "2022-09-01T01:59:14.866637",
     "exception": false,
     "start_time": "2022-09-01T01:59:14.184944",
     "status": "completed"
    },
    "tags": []
   },
   "outputs": [
    {
     "data": {
      "application/javascript": [
       "parent.postMessage({\"jupyterEvent\": \"custom.exercise_interaction\", \"data\": {\"outcomeType\": 1, \"valueTowardsCompletion\": 0.3333333333333333, \"interactionType\": 1, \"questionType\": 2, \"questionId\": \"6.1_PlotColorReg\", \"learnToolsVersion\": \"0.3.4\", \"failureMessage\": \"\", \"exceptionClass\": \"\", \"trace\": \"\"}}, \"*\")"
      ],
      "text/plain": [
       "<IPython.core.display.Javascript object>"
      ]
     },
     "metadata": {},
     "output_type": "display_data"
    },
    {
     "data": {
      "text/markdown": [
       "<span style=\"color:#33cc33\">Correct</span>"
      ],
      "text/plain": [
       "Correct"
      ]
     },
     "metadata": {},
     "output_type": "display_data"
    },
    {
     "data": {
      "image/png": "[encoded data removed]",
      "text/plain": [
       "<Figure size 416.375x360 with 1 Axes>"
      ]
     },
     "metadata": {
      "needs_background": "light"
     },
     "output_type": "display_data"
    }
   ],
   "source": [
    "# Color-coded scatter plot w/ regression lines\n",
    "____ # Your code here\n",
    "sns.lmplot(x='pricepercent',y='winpercent',hue='chocolate',data=candy_data)\n",
    "# Check your answer\n",
    "step_6.a.check()"
   ]
  },
  {
   "cell_type": "code",
   "execution_count": 19,
   "id": "8a3f29f6",
   "metadata": {
    "execution": {
     "iopub.execute_input": "2022-09-01T01:59:14.893966Z",
     "iopub.status.busy": "2022-09-01T01:59:14.893319Z",
     "iopub.status.idle": "2022-09-01T01:59:14.897984Z",
     "shell.execute_reply": "2022-09-01T01:59:14.897039Z"
    },
    "papermill": {
     "duration": 0.020597,
     "end_time": "2022-09-01T01:59:14.900263",
     "exception": false,
     "start_time": "2022-09-01T01:59:14.879666",
     "status": "completed"
    },
    "tags": []
   },
   "outputs": [],
   "source": [
    "# Lines below will give you a hint or solution code\n",
    "#step_6.a.hint()\n",
    "#step_6.a.solution_plot()"
   ]
  },
  {
   "cell_type": "markdown",
   "id": "e4223723",
   "metadata": {
    "papermill": {
     "duration": 0.012268,
     "end_time": "2022-09-01T01:59:14.925011",
     "exception": false,
     "start_time": "2022-09-01T01:59:14.912743",
     "status": "completed"
    },
    "tags": []
   },
   "source": [
    "#### Part B\n",
    "\n",
    "Using the regression lines, what conclusions can you draw about the effects of chocolate and price on candy popularity?"
   ]
  },
  {
   "cell_type": "code",
   "execution_count": 20,
   "id": "9c75e1fd",
   "metadata": {
    "execution": {
     "iopub.execute_input": "2022-09-01T01:59:14.951639Z",
     "iopub.status.busy": "2022-09-01T01:59:14.951229Z",
     "iopub.status.idle": "2022-09-01T01:59:14.955733Z",
     "shell.execute_reply": "2022-09-01T01:59:14.954589Z"
    },
    "papermill": {
     "duration": 0.020432,
     "end_time": "2022-09-01T01:59:14.958016",
     "exception": false,
     "start_time": "2022-09-01T01:59:14.937584",
     "status": "completed"
    },
    "tags": []
   },
   "outputs": [],
   "source": [
    "#step_6.b.hint()"
   ]
  },
  {
   "cell_type": "code",
   "execution_count": 21,
   "id": "900c86e9",
   "metadata": {
    "execution": {
     "iopub.execute_input": "2022-09-01T01:59:14.984980Z",
     "iopub.status.busy": "2022-09-01T01:59:14.984216Z",
     "iopub.status.idle": "2022-09-01T01:59:14.993131Z",
     "shell.execute_reply": "2022-09-01T01:59:14.992330Z"
    },
    "papermill": {
     "duration": 0.024876,
     "end_time": "2022-09-01T01:59:14.995295",
     "exception": false,
     "start_time": "2022-09-01T01:59:14.970419",
     "status": "completed"
    },
    "tags": []
   },
   "outputs": [
    {
     "data": {
      "application/javascript": [
       "parent.postMessage({\"jupyterEvent\": \"custom.exercise_interaction\", \"data\": {\"interactionType\": 3, \"questionType\": 4, \"questionId\": \"6.2_ThinkColorReg\", \"learnToolsVersion\": \"0.3.4\", \"valueTowardsCompletion\": 0.0, \"failureMessage\": \"\", \"exceptionClass\": \"\", \"trace\": \"\", \"outcomeType\": 4}}, \"*\")"
      ],
      "text/plain": [
       "<IPython.core.display.Javascript object>"
      ]
     },
     "metadata": {},
     "output_type": "display_data"
    },
    {
     "data": {
      "text/markdown": [
       "<span style=\"color:#33cc99\">Solution:</span> We'll begin with the regression line for chocolate candies. Since this line has a slightly positive slope, we can say that more expensive chocolate candies tend to be more popular (than relatively cheaper chocolate candies).  Likewise, since the regression line for candies without chocolate has a negative slope, we can say that if candies don't contain chocolate, they tend to be more popular when they are cheaper.  One important note, however, is that the dataset is quite small -- so we shouldn't invest too much trust in these patterns!  To inspire more confidence in the results, we should add more candies to the dataset."
      ],
      "text/plain": [
       "Solution: We'll begin with the regression line for chocolate candies. Since this line has a slightly positive slope, we can say that more expensive chocolate candies tend to be more popular (than relatively cheaper chocolate candies).  Likewise, since the regression line for candies without chocolate has a negative slope, we can say that if candies don't contain chocolate, they tend to be more popular when they are cheaper.  One important note, however, is that the dataset is quite small -- so we shouldn't invest too much trust in these patterns!  To inspire more confidence in the results, we should add more candies to the dataset."
      ]
     },
     "metadata": {},
     "output_type": "display_data"
    }
   ],
   "source": [
    "# Check your answer (Run this code cell to receive credit!)\n",
    "step_6.b.solution()"
   ]
  },
  {
   "cell_type": "markdown",
   "id": "3159f5fb",
   "metadata": {
    "papermill": {
     "duration": 0.012588,
     "end_time": "2022-09-01T01:59:15.020612",
     "exception": false,
     "start_time": "2022-09-01T01:59:15.008024",
     "status": "completed"
    },
    "tags": []
   },
   "source": [
    "## Step 7: Everybody loves chocolate.\n",
    "\n",
    "#### Part A\n",
    "\n",
    "Create a categorical scatter plot to highlight the relationship between `'chocolate'` and `'winpercent'`.  Put `'chocolate'` on the (horizontal) x-axis, and `'winpercent'` on the (vertical) y-axis."
   ]
  },
  {
   "cell_type": "code",
   "execution_count": 22,
   "id": "33f916e7",
   "metadata": {
    "execution": {
     "iopub.execute_input": "2022-09-01T01:59:15.049328Z",
     "iopub.status.busy": "2022-09-01T01:59:15.048651Z",
     "iopub.status.idle": "2022-09-01T01:59:15.273597Z",
     "shell.execute_reply": "2022-09-01T01:59:15.272458Z"
    },
    "papermill": {
     "duration": 0.241749,
     "end_time": "2022-09-01T01:59:15.276301",
     "exception": false,
     "start_time": "2022-09-01T01:59:15.034552",
     "status": "completed"
    },
    "tags": []
   },
   "outputs": [
    {
     "data": {
      "application/javascript": [
       "parent.postMessage({\"jupyterEvent\": \"custom.exercise_interaction\", \"data\": {\"outcomeType\": 1, \"valueTowardsCompletion\": 0.3333333333333333, \"interactionType\": 1, \"questionType\": 2, \"questionId\": \"7.1_PlotSwarm\", \"learnToolsVersion\": \"0.3.4\", \"failureMessage\": \"\", \"exceptionClass\": \"\", \"trace\": \"\"}}, \"*\")"
      ],
      "text/plain": [
       "<IPython.core.display.Javascript object>"
      ]
     },
     "metadata": {},
     "output_type": "display_data"
    },
    {
     "data": {
      "text/markdown": [
       "<span style=\"color:#33cc33\">Correct</span>"
      ],
      "text/plain": [
       "Correct"
      ]
     },
     "metadata": {},
     "output_type": "display_data"
    },
    {
     "data": {
      "image/png": "[encoded data removed]",
      "text/plain": [
       "<Figure size 432x288 with 1 Axes>"
      ]
     },
     "metadata": {
      "needs_background": "light"
     },
     "output_type": "display_data"
    }
   ],
   "source": [
    "# Scatter plot showing the relationship between 'chocolate' and 'winpercent'\n",
    "____ # Your code here\n",
    "sns.swarmplot(x='chocolate',y='winpercent',data=candy_data)\n",
    "# Check your answer\n",
    "step_7.a.check()"
   ]
  },
  {
   "cell_type": "code",
   "execution_count": 23,
   "id": "11369351",
   "metadata": {
    "execution": {
     "iopub.execute_input": "2022-09-01T01:59:15.305833Z",
     "iopub.status.busy": "2022-09-01T01:59:15.304430Z",
     "iopub.status.idle": "2022-09-01T01:59:15.309442Z",
     "shell.execute_reply": "2022-09-01T01:59:15.308677Z"
    },
    "papermill": {
     "duration": 0.021621,
     "end_time": "2022-09-01T01:59:15.311430",
     "exception": false,
     "start_time": "2022-09-01T01:59:15.289809",
     "status": "completed"
    },
    "tags": []
   },
   "outputs": [],
   "source": [
    "# Lines below will give you a hint or solution code\n",
    "#step_7.a.hint()\n",
    "#step_7.a.solution_plot()"
   ]
  },
  {
   "cell_type": "markdown",
   "id": "234eec43",
   "metadata": {
    "papermill": {
     "duration": 0.013163,
     "end_time": "2022-09-01T01:59:15.338095",
     "exception": false,
     "start_time": "2022-09-01T01:59:15.324932",
     "status": "completed"
    },
    "tags": []
   },
   "source": [
    "#### Part B\n",
    "\n",
    "You decide to dedicate a section of your report to the fact that chocolate candies tend to be more popular than candies without chocolate.  Which plot is more appropriate to tell this story: the plot from **Step 6**, or the plot from **Step 7**?"
   ]
  },
  {
   "cell_type": "code",
   "execution_count": 24,
   "id": "b99710e4",
   "metadata": {
    "execution": {
     "iopub.execute_input": "2022-09-01T01:59:15.366901Z",
     "iopub.status.busy": "2022-09-01T01:59:15.366282Z",
     "iopub.status.idle": "2022-09-01T01:59:15.371167Z",
     "shell.execute_reply": "2022-09-01T01:59:15.370118Z"
    },
    "papermill": {
     "duration": 0.021723,
     "end_time": "2022-09-01T01:59:15.373426",
     "exception": false,
     "start_time": "2022-09-01T01:59:15.351703",
     "status": "completed"
    },
    "tags": []
   },
   "outputs": [],
   "source": [
    "#step_7.b.hint()"
   ]
  },
  {
   "cell_type": "code",
   "execution_count": 25,
   "id": "1463c736",
   "metadata": {
    "execution": {
     "iopub.execute_input": "2022-09-01T01:59:15.402511Z",
     "iopub.status.busy": "2022-09-01T01:59:15.402120Z",
     "iopub.status.idle": "2022-09-01T01:59:15.411004Z",
     "shell.execute_reply": "2022-09-01T01:59:15.409796Z"
    },
    "papermill": {
     "duration": 0.026051,
     "end_time": "2022-09-01T01:59:15.413034",
     "exception": false,
     "start_time": "2022-09-01T01:59:15.386983",
     "status": "completed"
    },
    "tags": []
   },
   "outputs": [
    {
     "data": {
      "application/javascript": [
       "parent.postMessage({\"jupyterEvent\": \"custom.exercise_interaction\", \"data\": {\"interactionType\": 3, \"questionType\": 4, \"questionId\": \"7.2_ThinkSwarm\", \"learnToolsVersion\": \"0.3.4\", \"valueTowardsCompletion\": 0.0, \"failureMessage\": \"\", \"exceptionClass\": \"\", \"trace\": \"\", \"outcomeType\": 4}}, \"*\")"
      ],
      "text/plain": [
       "<IPython.core.display.Javascript object>"
      ]
     },
     "metadata": {},
     "output_type": "display_data"
    },
    {
     "data": {
      "text/markdown": [
       "<span style=\"color:#33cc99\">Solution:</span> In this case, the categorical scatter plot from **Step 7** is the more appropriate plot. While both plots tell the desired story, the plot from **Step 6** conveys far more information that could distract from the main point."
      ],
      "text/plain": [
       "Solution: In this case, the categorical scatter plot from **Step 7** is the more appropriate plot. While both plots tell the desired story, the plot from **Step 6** conveys far more information that could distract from the main point."
      ]
     },
     "metadata": {},
     "output_type": "display_data"
    }
   ],
   "source": [
    "# Check your answer (Run this code cell to receive credit!)\n",
    "step_7.b.solution()"
   ]
  },
  {
   "cell_type": "markdown",
   "id": "4587745e",
   "metadata": {
    "papermill": {
     "duration": 0.013346,
     "end_time": "2022-09-01T01:59:15.440155",
     "exception": false,
     "start_time": "2022-09-01T01:59:15.426809",
     "status": "completed"
    },
    "tags": []
   },
   "source": [
    "## Keep going\n",
    "\n",
    "Explore **[histograms and density plots](https://www.kaggle.com/alexisbcook/distributions)**."
   ]
  },
  {
   "cell_type": "markdown",
   "id": "aba2397d",
   "metadata": {
    "papermill": {
     "duration": 0.014213,
     "end_time": "2022-09-01T01:59:15.468088",
     "exception": false,
     "start_time": "2022-09-01T01:59:15.453875",
     "status": "completed"
    },
    "tags": []
   },
   "source": [
    "---\n",
    "\n",
    "\n",
    "\n",
    "\n",
    "*Have questions or comments? Visit the [course discussion forum](https://www.kaggle.com/learn/data-visualization/discussion) to chat with other learners.*"
   ]
  }
 ],
 "metadata": {
  "kernelspec": {
   "display_name": "Python 3",
   "language": "python",
   "name": "python3"
  },
  "language_info": {
   "codemirror_mode": {
    "name": "ipython",
    "version": 3
   },
   "file_extension": ".py",
   "mimetype": "text/x-python",
   "name": "python",
   "nbconvert_exporter": "python",
   "pygments_lexer": "ipython3",
   "version": "3.7.12"
  },
  "papermill": {
   "default_parameters": {},
   "duration": 13.530121,
   "end_time": "2022-09-01T01:59:16.203191",
   "environment_variables": {},
   "exception": null,
   "input_path": "__notebook__.ipynb",
   "output_path": "__notebook__.ipynb",
   "parameters": {},
   "start_time": "2022-09-01T01:59:02.673070",
   "version": "2.3.4"
  }
 },
 "nbformat": 4,
 "nbformat_minor": 5
}
